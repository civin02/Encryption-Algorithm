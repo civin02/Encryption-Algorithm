{
  "nbformat": 4,
  "nbformat_minor": 0,
  "metadata": {
    "colab": {
      "provenance": [],
      "authorship_tag": "ABX9TyN6SldwKIV+s59NE+wj2tpy",
      "include_colab_link": true
    },
    "kernelspec": {
      "name": "python3",
      "display_name": "Python 3"
    },
    "language_info": {
      "name": "python"
    }
  },
  "cells": [
    {
      "cell_type": "markdown",
      "metadata": {
        "id": "view-in-github",
        "colab_type": "text"
      },
      "source": [
        "<a href=\"https://colab.research.google.com/github/civin02/Encryption-Algorithm/blob/main/Symmetric_Encryption.ipynb\" target=\"_parent\"><img src=\"https://colab.research.google.com/assets/colab-badge.svg\" alt=\"Open In Colab\"/></a>"
      ]
    },
    {
      "cell_type": "markdown",
      "source": [
        "# **The Vigenere Cipher**\n",
        "\n",
        "Instead of shifting the entire message by one fixed amount use a keyword to determine the shift value for each letter. This keyword is repeated to match the length of the message.\n",
        "\n",
        "\n",
        "The Code Explained:\n",
        "\n",
        "**generate_key(text, key):**\n",
        "\n",
        "makes a copy of the key as a list.\n",
        "If the text and key have the same length, it returns the key directly.\n",
        "Or it extends the key by repeating characters from the beginning to match the text length.\n",
        "\n",
        "**Encryption:**\n",
        "\n",
        "encrypt(text, key): Converts the text to uppercase.Creates an empty list cipher_text to store the encrypted message.Loops through each character.\n",
        "Calculates the shift value by adding the ASCII values of the current text character and the corresponding key character, then taking the modulo 26 to keep it within the alphabet range (0-25).Appends the encrypted character to the cipher_text list.Return encrypt message.\n",
        "\n",
        "**Decryption:**\n",
        "decrypt(cipher_text, key):\n",
        " Decryption is similar to encryption but the shift value is subtracted instead of added.handle negative modulo values it adds 26 before taking the modulo.The rest follows the same logic as encryption.\n"
      ],
      "metadata": {
        "id": "udouapzk9ZRN"
      }
    },
    {
      "cell_type": "code",
      "execution_count": 2,
      "metadata": {
        "colab": {
          "base_uri": "https://localhost:8080/"
        },
        "id": "VD-3UioP8pXV",
        "outputId": "cea59e5e-52db-4b6a-940d-fa582b72dfc3"
      },
      "outputs": [
        {
          "output_type": "stream",
          "name": "stdout",
          "text": [
            "Text : Hai Ivin\n",
            "Key : PIZZAPIZ\n",
            "Encrypted message: WIHSIKQM\n",
            "Decrypted message: HAITIVIN\n"
          ]
        }
      ],
      "source": [
        "def generate_key(text, key):\n",
        "    key = list(key)\n",
        "    if len(text) == len(key):\n",
        "        return key\n",
        "    else:\n",
        "        for i in range(len(text) - len(key)):\n",
        "            key.append(key[i % len(key)])\n",
        "    return ''.join(key)\n",
        "\n",
        "def encrypt(text, key):\n",
        "    cipher_text = []\n",
        "    for i in range(len(text)):\n",
        "        x = (ord(text[i]) + ord(key[i])) % 26\n",
        "        x += ord('A')\n",
        "        cipher_text.append(chr(x))\n",
        "    return ''.join(cipher_text)\n",
        "\n",
        "def decrypt(cipher_text, key):\n",
        "    plain_text = []\n",
        "    for i in range(len(cipher_text)):\n",
        "        x = (ord(cipher_text[i]) - ord(key[i]) + 26) % 26\n",
        "        x += ord('A')\n",
        "        plain_text.append(chr(x))\n",
        "    return ''.join(plain_text)\n",
        "\n",
        "text = \"Hai Ivin\"\n",
        "key = \"PIZZA\"\n",
        "key = generate_key(text, key)\n",
        "\n",
        "print(\"Text : \" + text)\n",
        "print(\"Key : \" + key)\n",
        "print(\"Encrypted message: \" + encrypt(text.upper(), key))\n",
        "print(\"Decrypted message: \" + decrypt(encrypt(text.upper(), key), key))"
      ]
    },
    {
      "cell_type": "markdown",
      "metadata": {
        "id": "_H3tvIEeS4Bg"
      },
      "source": [
        "#**Caesar Cipher**\n",
        "This code implements a Caesar Cipher for encryption and decryption in Python. Here's a breakdown in simpler terms:\n",
        "\n",
        "**1. Caesar Cipher Functions:**\n",
        "\n",
        " **caesar cipher(message, key):** This function encrypts a message using the Caesar Cipher, defining the standard alphabet and creating a shifted alphabet. It creates a translation table mapping each letter in the original alphabet to its corresponding letter in the shifted alphabet. The function uses the translate method to replace each letter with its shifted version, ensuring encryption.\n",
        "\n",
        "**caesar_decrypt(ciphertext, key):** This function decrypts a message that was encrypted with the Caesar Cipher.It simply calls the caesar_cipher function with the ciphertext and the negative of the key. The negative key effectively \"shifts\" the letters back to their original positions, reversing the encryption.\n",
        ".\n"
      ]
    },
    {
      "cell_type": "code",
      "execution_count": null,
      "metadata": {
        "colab": {
          "base_uri": "https://localhost:8080/"
        },
        "id": "AMQOOC5IQQI1",
        "outputId": "9c1d9e86-7962-4a28-d30c-d7db6faccb1c"
      },
      "outputs": [
        {
          "name": "stdout",
          "output_type": "stream",
          "text": [
            "Original message: This is a secret message!\n",
            "Encrypted message: Tklv lv d vhfuhw phvvdjh!\n",
            "Decrypted message: This is a secret message!\n"
          ]
        }
      ],
      "source": [
        "def caesar_cipher(message, key):\n",
        "  alphabet = 'abcdefghijklmnopqrstuvwxyz'\n",
        "  shifted_alphabet = alphabet[key:] + alphabet[:key]\n",
        "  translation_table = str.maketrans(alphabet, shifted_alphabet)\n",
        "  return message.translate(translation_table)\n",
        "\n",
        "def caesar_decrypt(ciphertext, key):\n",
        "  return caesar_cipher(ciphertext, -key)\n",
        "message = \"This is a secret message!\"\n",
        "key = 3\n",
        "encrypted_message = caesar_cipher(message, key)\n",
        "decrypted_message = caesar_decrypt(encrypted_message, key)\n",
        "print(\"Original message:\", message)\n",
        "print(\"Encrypted message:\", encrypted_message)\n",
        "print(\"Decrypted message:\", decrypted_message)\n"
      ]
    }
  ]
}