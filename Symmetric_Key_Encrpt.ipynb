{
  "cells": [
    {
      "cell_type": "markdown",
      "metadata": {
        "id": "view-in-github",
        "colab_type": "text"
      },
      "source": [
        "<a href=\"https://colab.research.google.com/github/civin02/Encryption-Algorithms-Symmetric-and-asymmetric/blob/main/Symmetric_Key_Encrpt.ipynb\" target=\"_parent\"><img src=\"https://colab.research.google.com/assets/colab-badge.svg\" alt=\"Open In Colab\"/></a>"
      ]
    },
    {
      "cell_type": "markdown",
      "metadata": {
        "id": "tDVz0GBdVfcm"
      },
      "source": [
        "# **Symmetric Encryption Algorithms**\n"
      ]
    },
    {
      "cell_type": "markdown",
      "metadata": {
        "id": "2bdWB50QRVHt"
      },
      "source": [
        "\n",
        "#**Advanced Encryption Standard**\n",
        "\n",
        "The code demonstrates secure password storage, encryption, and message authentication in AES.\n",
        "\n",
        "**Password Security**: secrets library is used to generate a random 32-byte salt. This adds random value to the password, making it harder to crack.\n",
        "scrypt library is used to create a strong key from the password and salt. It applies a slow hashing function (scrypt.hash).\n",
        "\n",
        "**Encryption and Message Authentication**: The key derived from scrypt is used for both encryption and message authentication.AES (Advanced Encryption Standard) is used for encryption in Cipher Block Chainin mode. This scrambles the data using the key.\n",
        "Crypto.Util.Padding ensures the data meets the block size requirement for AES.Poly1305 is used to generate a message authentication code (MAC).\n",
        "\n",
        "**Steps:**\n",
        "\n",
        "    Generate a secure key:\n",
        "        Password, salt, and scrypt are used to create a strong key.\n",
        "\n",
        "    Encryption and MAC generation:\n",
        "        The message is padded for AES.\n",
        "        AES encrypts the message using the key.\n",
        "        Poly1305 generates a MAC using the key and the original message.\n",
        "\n",
        "    Decryption and MAC verification:\n",
        "        The encrypted message is decrypted using the key with initialization vector (IV) from the encryption step.\n",
        "        The decrypted message is unpadded.\n",
        "        Poly1305 verifies the MAC using the key, the original message, the IV, and the MAC generated earlier.\n",
        "\n"
      ]
    },
    {
      "cell_type": "code",
      "execution_count": null,
      "metadata": {
        "colab": {
          "base_uri": "https://localhost:8080/"
        },
        "id": "P7DdJKVoOVd8",
        "outputId": "d62a46c0-6403-4279-c8f8-b49e24989044"
      },
      "outputs": [
        {
          "name": "stdout",
          "output_type": "stream",
          "text": [
            "b'\\xa3i\\xb8\\xeat\\xcc\\x9b\\xc8>\\xba\\\\\\xc3\\xca \\xc3(b\\x88\\xfc\\xa1u\\x88p\\xb5\\xf6\\xab\\x96b\\x90\\xb6\\xdc\\xc1'\n",
            "hexdigest:  18367731c5efbe29df4949371794a46b\n",
            "poly_nonce:  b\"\\xe3\\x81\\xd4\\xde\\\\FB*Jm\\x9f\\xb7'\\xe4\\x8d\\t\"\n",
            "Authentication Success\n",
            "AES symmetric cipher mode with a key derived from scrypt key derivation function\n"
          ]
        }
      ],
      "source": [
        "import secrets\n",
        "import scrypt\n",
        "password = 'Pass or guess'\n",
        "salt = secrets.token_bytes(32)\n",
        "key = scrypt.hash(password, salt, N=2048, r=8, p=1, buflen=32)\n",
        "print(key)\n",
        "#Encryption and MAC generation\n",
        "from Crypto.Cipher import AES\n",
        "from Crypto.Util.Padding import pad, unpad\n",
        "from Crypto.Hash import Poly1305\n",
        "def generate_Poly1305_mac(data, key):\n",
        "    mac = Poly1305.new(key=key, cipher=AES, data=data)\n",
        "    return (mac.hexdigest(), mac.nonce)\n",
        "def verify_Poly1305_mac(data, key, nonce, mac_digest):\n",
        "    mac_verify = Poly1305.new(data=data, key=key, nonce=nonce,\n",
        "                         cipher=AES)\n",
        "    try:\n",
        "        mac_verify.hexverify(mac_digest)\n",
        "        print('Authentication Success')\n",
        "    except:\n",
        "        print('Authentication Failed')\n",
        "aes_enc = AES.new(key, AES.MODE_CBC)\n",
        "data = b'AES symmetric cipher mode with a key derived from scrypt key derivation function'\n",
        "cipher_text = aes_enc.encrypt(pad(data, AES.block_size))\n",
        "iv = aes_enc.iv\n",
        "hexdigest, poly_nonce = generate_Poly1305_mac(data=data, key=key)\n",
        "print('hexdigest: ', hexdigest)\n",
        "print('poly_nonce: ', poly_nonce)\n",
        "#Decryption and MAC verification\n",
        "aes_dec = AES.new(key, AES.MODE_CBC, iv)\n",
        "message = unpad(aes_dec.decrypt(cipher_text), AES.block_size)\n",
        "verify_Poly1305_mac(data=message, key=key, nonce=poly_nonce, mac_digest=hexdigest)\n",
        "print(message.decode('utf-8'))"
      ]
    },
    {
      "cell_type": "markdown",
      "metadata": {
        "id": "_H3tvIEeS4Bg"
      },
      "source": [
        "#**Caesar Cipher**\n",
        "This code implements a Caesar Cipher for encryption and decryption in Python. Here's a breakdown in simpler terms:\n",
        "\n",
        "**1. Caesar Cipher Functions:**\n",
        "\n",
        " **caesar cipher(message, key):** This function encrypts a message using the Caesar Cipher, defining the standard alphabet and creating a shifted alphabet. It creates a translation table mapping each letter in the original alphabet to its corresponding letter in the shifted alphabet. The function uses the translate method to replace each letter with its shifted version, ensuring encryption.\n",
        "**caesar_decrypt(ciphertext, key):** This function decrypts a message that was encrypted with the Caesar Cipher.It simply calls the caesar_cipher function with the ciphertext (encrypted message) and the negative of the key. The negative key effectively \"shifts\" the letters back to their original positions, reversing the encryption.\n",
        "\n",
        "**2. Example Usage:**\n",
        "\n",
        "The code defines a message (message).It sets a key value (number of positions to shift).It encrypts the message using caesar_cipher(message, key).\n",
        "It decrypts the encrypted message using caesar_decrypt(encrypted_message, key).\n",
        "Finally, it prints the original message, the encrypted message, and the decrypted message.\n",
        "\n",
        "**In essence:**\n",
        "The Caesar Cipher shifts each letter in the message a certain number of positions down the alphabet for encryption.\n",
        "Decryption involves shifting the letters back by the same number of positions.\n"
      ]
    },
    {
      "cell_type": "code",
      "execution_count": null,
      "metadata": {
        "colab": {
          "base_uri": "https://localhost:8080/"
        },
        "id": "AMQOOC5IQQI1",
        "outputId": "9c1d9e86-7962-4a28-d30c-d7db6faccb1c"
      },
      "outputs": [
        {
          "name": "stdout",
          "output_type": "stream",
          "text": [
            "Original message: This is a secret message!\n",
            "Encrypted message: Tklv lv d vhfuhw phvvdjh!\n",
            "Decrypted message: This is a secret message!\n"
          ]
        }
      ],
      "source": [
        "def caesar_cipher(message, key):\n",
        "  alphabet = 'abcdefghijklmnopqrstuvwxyz'\n",
        "  shifted_alphabet = alphabet[key:] + alphabet[:key]\n",
        "  translation_table = str.maketrans(alphabet, shifted_alphabet)\n",
        "  return message.translate(translation_table)\n",
        "\n",
        "def caesar_decrypt(ciphertext, key):\n",
        "  return caesar_cipher(ciphertext, -key)\n",
        "message = \"This is a secret message!\"\n",
        "key = 3\n",
        "encrypted_message = caesar_cipher(message, key)\n",
        "decrypted_message = caesar_decrypt(encrypted_message, key)\n",
        "print(\"Original message:\", message)\n",
        "print(\"Encrypted message:\", encrypted_message)\n",
        "print(\"Decrypted message:\", decrypted_message)\n"
      ]
    }
  ],
  "metadata": {
    "colab": {
      "toc_visible": true,
      "provenance": [],
      "authorship_tag": "ABX9TyPrEZtINfA/7iwGgEN5P1nK",
      "include_colab_link": true
    },
    "kernelspec": {
      "display_name": "Python 3",
      "name": "python3"
    },
    "language_info": {
      "name": "python"
    }
  },
  "nbformat": 4,
  "nbformat_minor": 0
}