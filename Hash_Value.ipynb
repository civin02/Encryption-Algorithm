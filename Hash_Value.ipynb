{
  "nbformat": 4,
  "nbformat_minor": 0,
  "metadata": {
    "colab": {
      "provenance": [],
      "authorship_tag": "ABX9TyPqaUOsBjz7QDjh2NQki3G3",
      "include_colab_link": true
    },
    "kernelspec": {
      "name": "python3",
      "display_name": "Python 3"
    },
    "language_info": {
      "name": "python"
    }
  },
  "cells": [
    {
      "cell_type": "markdown",
      "metadata": {
        "id": "view-in-github",
        "colab_type": "text"
      },
      "source": [
        "<a href=\"https://colab.research.google.com/github/civin02/Encryption-Algorithm/blob/main/Hash_Value.ipynb\" target=\"_parent\"><img src=\"https://colab.research.google.com/assets/colab-badge.svg\" alt=\"Open In Colab\"/></a>"
      ]
    },
    {
      "cell_type": "markdown",
      "source": [
        "**Hash Function**\n",
        "\n",
        "A hash function is a special algorithm that takes an arbitrary amount of data and condenses it into a fixed-size string of characters, called a hash value or digest. This process is irreversible meaning we cannot retrieve the original data from the hash alone. Hash functions play a vital role in ensuring data integrity and security in various cryptographic applications.\n",
        "\n",
        "1. Imports:\n",
        "\n",
        "hashlib: This library provides cryptographic hash functions like SHA-256.\n",
        "uuid: This library helps generate unique identifiers used as the value to hash.\n",
        "  os: This library provides access to operating system functionality, used here for generating random data.\n",
        "\n",
        "2. Salt Function:\n",
        "\n",
        "create_random_salt(length=16) : This function generates a random string of bytes called a \"salt.\"\n",
        "The length parameter (default 16) determines the salt's size in bytes.\n",
        "os.urandom(length) creates a cryptographically secure random byte sequence for the salt.\n",
        "\n",
        "3. Hashing Function:\n",
        "\n",
        "create_sha2_hash(input_value, salt):\n",
        "This function takes an input value (like a password) and a salt to create a SHA-256 hash.\n",
        "It combines the salt and the encoded input value (value_to_hash = salt + input_value.encode()).\n",
        "The .encode() method converts the input value to bytes for hashing.\n",
        "hashlib.sha256(value_to_hash).digest() uses the SHA-256 algorithm to create a fixed-size hash digest from the combined value.\n",
        "\n",
        "4. Main Execution:\n",
        "\n",
        "This section simulates a password hashing scenario:\n",
        "salt = create_random_salt(): Generates a random salt and prints its hexadecimal representation.\n",
        "value_to_hash = str(uuid.uuid4()): Generates a unique string value (like a password) to hash.\n",
        "hash1 = create_sha2_hash(value_to_hash, salt): Creates a SHA-256 hash of the value using the generated salt. Prints the hash in hexadecimal format.\n",
        "hash2 = create_sha2_hash(value_to_hash, salt): Creates a second hash using the same value and salt. Prints the second hash.\n"
      ],
      "metadata": {
        "id": "caP-EdEyXc-Z"
      }
    },
    {
      "cell_type": "code",
      "source": [
        "import hashlib\n",
        "import uuid\n",
        "import os\n",
        "\n",
        "def create_random_salt(length=16):\n",
        "    return os.urandom(length)\n",
        "\n",
        "def create_sha2_hash(input_value, salt):\n",
        "    value_to_hash = salt + input_value.encode()\n",
        "    return hashlib.sha256(value_to_hash).digest()\n",
        "\n",
        "if __name__ == \"__main__\":\n",
        "    salt = create_random_salt()\n",
        "    print(\"SALT_VALUE: \", salt.hex())\n",
        "    value_to_hash = str(uuid.uuid4())\n",
        "    hash1 = create_sha2_hash(value_to_hash, salt)\n",
        "    print(\"HASH1_VALUE: \", hash1.hex())\n",
        "    hash2 = create_sha2_hash(value_to_hash, salt)\n",
        "    print(\"HASH2_VALUE: \", hash2.hex())"
      ],
      "metadata": {
        "colab": {
          "base_uri": "https://localhost:8080/"
        },
        "id": "rK8LDSaYYDG4",
        "outputId": "7bf068f2-bdcc-45fa-e947-d774ce7caef6"
      },
      "execution_count": 2,
      "outputs": [
        {
          "output_type": "stream",
          "name": "stdout",
          "text": [
            "SALT_VALUE:  df9e44f84704430e91b98fdc196270fc\n",
            "HASH1_VALUE:  eab2226aadc7c85e8b976e722de637c0f272e3cb333f95aa41a534cc7caa7b2d\n",
            "HASH2_VALUE:  eab2226aadc7c85e8b976e722de637c0f272e3cb333f95aa41a534cc7caa7b2d\n"
          ]
        }
      ]
    }
  ]
}