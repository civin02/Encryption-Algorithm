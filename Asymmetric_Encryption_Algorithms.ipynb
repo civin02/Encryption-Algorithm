{
  "nbformat": 4,
  "nbformat_minor": 0,
  "metadata": {
    "colab": {
      "provenance": [],
      "toc_visible": true,
      "authorship_tag": "ABX9TyO9rvew/42qBS3QGpJuabHF",
      "include_colab_link": true
    },
    "kernelspec": {
      "name": "python3",
      "display_name": "Python 3"
    },
    "language_info": {
      "name": "python"
    }
  },
  "cells": [
    {
      "cell_type": "markdown",
      "metadata": {
        "id": "view-in-github",
        "colab_type": "text"
      },
      "source": [
        "<a href=\"https://colab.research.google.com/github/civin02/Encryption-Algorithm/blob/main/Asymmetric_Encryption_Algorithms.ipynb\" target=\"_parent\"><img src=\"https://colab.research.google.com/assets/colab-badge.svg\" alt=\"Open In Colab\"/></a>"
      ]
    },
    {
      "cell_type": "markdown",
      "source": [
        "\n",
        "\n",
        "# **Asymmetric Encryption Algorithms**"
      ],
      "metadata": {
        "id": "t1g_UZlKv84T"
      }
    },
    {
      "cell_type": "markdown",
      "source": [
        " **Digital Signature Algorithm (DSA)**\n",
        "\n",
        "The  below code demonstrates the process of signing and verifying a message using the Digital Signature Algorithm (DSA) with the\n",
        "pycryptodome library in Python.The code generates a DSA key pair signs a message and saves the public key to a file then loads the public key and verifies the message signature using the public key. It provides results on whether the message is authentic or not based on the verification result.\n",
        "\n",
        "**Steps:**\n",
        "1. Import Libraries:\n",
        "\n",
        "    Crypto.PublicKey: Provides tools for managing DSA public keys.\n",
        "    Crypto.Signature: creating and verifying digital signatures with DSA.\n",
        "    Crypto.Hash:creating message digests before signing.\n",
        "\n",
        "2. Generate DSA Key Pair:\n",
        "\n",
        "    key = DSA.generate(2048):creates a new DSA key pair with a key size of 2048 bits.\n",
        "3. Save Public Key (Improved):\n",
        "\n",
        "    with open(\"public_key.pem\", \"wb\") as f:: This line opens the file \"public_key.pem\" in binary write mode (wb) using a context manager (with). This ensures the file is automatically closed after the code within the indented block finishes.\n",
        "    f.write(key.publickey().export_key()): The public key is exported to a PEM-encoded format using export_key() and written to the file.\n",
        "\n",
        "4. Sign the Message:\n",
        "\n",
        "    message = b\"Hello\": Defines a message to be signed.\n",
        "    hash_obj = SHA256.new(message): Creates a SHA-256 hash object from the message.\n",
        "    signer = DSS.new(key, 'fips-186-3'): Initializes a DSA signer object using the private key (key)\n",
        "    signature = signer.sign(hash_obj): Signs the hash object using the signer.\n",
        "\n",
        "5. Load the Public Key (Improved):\n",
        "\n",
        "    with open(\"public_key.pem\", \"rb\") as f:: Opens the \"public_key.pem\" file in binary read mode (rb) using a context manager.\n",
        "    public_key = DSA.import_key(f.read()): Reads the PEM-encoded public key from the file and imports it using import_key().\n",
        "\n",
        "6. Verify Signature:\n",
        "\n",
        "    verifier = DSS.new(public_key, 'fips-186-3'): Creates a DSA verifier object using the imported public key.\n",
        "    try: verifier.verify(hash_obj, signature): Attempts to verify the signature using the verifier object, the message hash, and the actual signature.\n",
        "    If verification is successful the except block is skipped.\n",
        "    except ValueError:: Catches a ValueError exception that might be raised if the signature verification fails.\n",
        "\n",
        "    If an exception occurs, the print(\"The message is not authentic.\") message is displayed.\n",
        "    print(\"The message is authentic.\"): If verification succeeds, this message is printed.\n",
        "\n"
      ],
      "metadata": {
        "id": "K5xQFj6e0MKp"
      }
    },
    {
      "cell_type": "code",
      "source": [
        "from Crypto.PublicKey import DSA\n",
        "from Crypto.Signature import DSS\n",
        "from Crypto.Hash import SHA256\n",
        "\n",
        "# Create a new DSA key\n",
        "key = DSA.generate(2048)\n",
        "\n",
        "# Save the public key to a file\n",
        "with open(\"public_key.pem\", \"wb\") as f:  # Use binary mode for writing bytes\n",
        "    f.write(key.publickey().export_key())\n",
        "\n",
        "# Sign a message\n",
        "message = b\"Hello\"\n",
        "hash_obj = SHA256.new(message)\n",
        "signer = DSS.new(key, 'fips-186-3')\n",
        "signature = signer.sign(hash_obj)\n",
        "\n",
        "# Load the public key\n",
        "with open(\"public_key.pem\", \"rb\") as f:  # Use binary mode for reading bytes\n",
        "    public_key = DSA.import_key(f.read())\n",
        "verifier = DSS.new(public_key, 'fips-186-3')\n",
        "\n",
        "# Verify the authenticity of the message\n",
        "try:\n",
        "    verifier.verify(hash_obj, signature)\n",
        "    print(\"The message is authentic.\")\n",
        "except ValueError:\n",
        "    print(\"The message is not authentic.\")\n"
      ],
      "metadata": {
        "colab": {
          "base_uri": "https://localhost:8080/"
        },
        "id": "8hnGMuIVyeN8",
        "outputId": "57ec8879-3592-4cfb-f18b-ffd159364935"
      },
      "execution_count": 10,
      "outputs": [
        {
          "output_type": "stream",
          "name": "stdout",
          "text": [
            "The message is authentic.\n"
          ]
        }
      ]
    },
    {
      "cell_type": "markdown",
      "source": [
        "**RSA algorithm**\n",
        "\n",
        "RSA algorithm is an asymmetric cryptography algorithm. Asymmetric actually means that it works on two different keys.Public Key and Private Key. As the name describes that the Public Key is given to everyone and the Private key is kept private.\n",
        "\n",
        "RSA encryption and decryption algorithm. It takes three arguments:\n",
        "\n",
        "p: First prime number for key generation.\n",
        "q: Second prime number for key generation.\n",
        "message: The message to be encrypted.\n",
        "\n",
        "The code first generates the public and private keys. The public key is used to encrypt the message, and the private key is used to decrypt the message.\n",
        "\n",
        "The encryption process works as follows:\n",
        "\n",
        "The code calculates the modulus n, which is the product of the two prime numbers p and q.The code calculates the totient function which is the number of positive integers less than n that are relatively prime to n.The code finds a public key exponent e that is relatively prime to.\n",
        "The code encrypts the message by raising the message to the power of the public key exponent e and taking the modulo by the modulus n.\n",
        "\n",
        "The decryption process works as follows:\n",
        "\n",
        "The code finds a private key exponent d that is the modular multiplicative inverse of the public key exponent e modulo.\n",
        "The code decrypts the message by raising the ciphertext to the power of the private key exponent d and taking the modulo by the modulus n."
      ],
      "metadata": {
        "id": "w6JS65I_1zfn"
      }
    },
    {
      "cell_type": "code",
      "source": [
        "from math import gcd\n",
        "def RSA(p: int, q: int, message: int):\n",
        "    n = p * q\n",
        "    t = (p - 1) * (q - 1)\n",
        "    for i in range(2, t):\n",
        "        if gcd(i, t) == 1:\n",
        "            e = i\n",
        "            break\n",
        "        j = 0\n",
        "    while True:\n",
        "        if (j * e) % t == 1:\n",
        "            d = j\n",
        "            break\n",
        "        j += 1\n",
        "    ct = (message ** e) % n\n",
        "    print(f\"Encrypted message is {ct}\")\n",
        "    mes = (ct ** d) % n\n",
        "    print(f\"Decrypted message is {mes}\")\n",
        "RSA(p=53,q=59,message=89)\n",
        "RSA(p=3,q=7,message=12)"
      ],
      "metadata": {
        "colab": {
          "base_uri": "https://localhost:8080/"
        },
        "id": "RAzkUxgq10WD",
        "outputId": "541ce186-8587-4daf-9c2e-f0865ba8ca2c"
      },
      "execution_count": 11,
      "outputs": [
        {
          "output_type": "stream",
          "name": "stdout",
          "text": [
            "Encrypted message is 1394\n",
            "Decrypted message is 89\n",
            "Encrypted message is 3\n",
            "Decrypted message is 12\n"
          ]
        }
      ]
    }
  ]
}